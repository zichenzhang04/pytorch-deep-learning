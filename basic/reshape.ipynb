{
 "cells": [
  {
   "cell_type": "code",
   "execution_count": 1,
   "metadata": {},
   "outputs": [],
   "source": [
    "import torch"
   ]
  },
  {
   "cell_type": "markdown",
   "metadata": {},
   "source": [
    "## Contiguous Tensors in PyTorch\n",
    "\n",
    "In the context of PyTorch and tensor operations, \"contiguous\" refers to the way data is stored in memory. A contiguous tensor is one where the elements are stored in a contiguous block of memory, with no gaps between them. This means that the stride (the step size between elements) is consistent and follows the order of the tensor's dimensions.\n",
    "\n",
    "### Example of a Contiguous Tensor\n",
    "\n",
    "Consider a simple 2D tensor (matrix):\n",
    "\n",
    "```python\n",
    "import torch\n",
    "\n",
    "x = torch.tensor([[1, 2, 3],\n",
    "                  [4, 5, 6]])\n",
    "```\n",
    "\n",
    "In memory, the elements of this tensor are stored in a contiguous block as follows:\n",
    "\n",
    "```\n",
    "1 2 3 4 5 6\n",
    "```\n",
    "\n",
    "Here, the elements are laid out one after the other in memory, which makes the tensor contiguous.\n",
    "\n",
    "### Example of a Non-Contiguous Tensor\n",
    "\n",
    "A tensor can become non-contiguous after certain operations, such as transposing. For example:\n",
    "\n",
    "```python\n",
    "y = x.t()  # Transpose the tensor\n",
    "```\n",
    "\n",
    "The transposed tensor `y` will look like this:\n",
    "\n",
    "```python\n",
    "tensor([[1, 4],\n",
    "        [2, 5],\n",
    "        [3, 6]])\n",
    "```\n",
    "\n",
    "However, in memory, the elements are still stored in the original order:\n",
    "\n",
    "```\n",
    "1 2 3 4 5 6\n",
    "```\n",
    "\n",
    "But to access the elements of `y`, you need to skip certain elements, making the access pattern non-contiguous.\n",
    "\n",
    "### Checking for Contiguity\n",
    "\n",
    "You can check if a tensor is contiguous using the `is_contiguous()` method:\n",
    "\n",
    "```python\n",
    "print(x.is_contiguous())  # True\n",
    "print(y.is_contiguous())  # False\n",
    "```\n",
    "\n",
    "### Why Contiguity Matters\n",
    "\n",
    "- **Performance**: Operations on contiguous tensors are generally faster because the data is stored in a straightforward manner, allowing for better memory access patterns.\n",
    "- **View Operation**: The `view()` function in PyTorch requires the tensor to be contiguous because it directly reshapes the tensor without copying the data. (`shape()` does not require the tensor to be contiguous so it's a safe option).\n",
    "\n",
    "### Making a Tensor Contiguous\n",
    "\n",
    "If you need to make a non-contiguous tensor contiguous, you can use the `contiguous()` method:\n",
    "\n",
    "```python\n",
    "y_contiguous = y.contiguous()\n",
    "print(y_contiguous.is_contiguous())  # True\n",
    "```\n",
    "\n",
    "This method returns a new tensor that is a contiguous copy of the original tensor."
   ]
  },
  {
   "cell_type": "code",
   "execution_count": 3,
   "metadata": {},
   "outputs": [
    {
     "name": "stdout",
     "output_type": "stream",
     "text": [
      "tensor([[0, 1, 2],\n",
      "        [3, 4, 5],\n",
      "        [6, 7, 8]])\n",
      "tensor([[0, 1, 2],\n",
      "        [3, 4, 5],\n",
      "        [6, 7, 8]])\n"
     ]
    }
   ],
   "source": [
    "x = torch.arange(9)\n",
    "x_3x3 = x.view(3, 3)  # x has to be contiguous\n",
    "print(x_3x3)\n",
    "\n",
    "x_3x3_2 = x.reshape(3, 3)\n",
    "print(x_3x3_2)  # nearly equivalent"
   ]
  },
  {
   "cell_type": "code",
   "execution_count": 4,
   "metadata": {},
   "outputs": [
    {
     "name": "stdout",
     "output_type": "stream",
     "text": [
      "torch.Size([4, 5])\n",
      "torch.Size([2, 10])\n"
     ]
    }
   ],
   "source": [
    "x1 = torch.rand(2, 5)\n",
    "x2 = torch.rand(2, 5)\n",
    "print(torch.cat((x1, x2), dim=0).shape)\n",
    "print(torch.cat((x1, x2), dim=1).shape)"
   ]
  },
  {
   "cell_type": "code",
   "execution_count": 5,
   "metadata": {},
   "outputs": [
    {
     "name": "stdout",
     "output_type": "stream",
     "text": [
      "tensor([[0.2878, 0.7538],\n",
      "        [0.5410, 0.1090]])\n",
      "tensor([0.2878, 0.7538, 0.5410, 0.1090])\n"
     ]
    }
   ],
   "source": [
    "# unroll\n",
    "matrix = torch.rand(2, 2)\n",
    "print(matrix)\n",
    "flattened = matrix.view(-1)\n",
    "print(flattened)"
   ]
  },
  {
   "cell_type": "code",
   "execution_count": 6,
   "metadata": {},
   "outputs": [
    {
     "name": "stdout",
     "output_type": "stream",
     "text": [
      "torch.Size([64, 8])\n"
     ]
    }
   ],
   "source": [
    "batch = 64\n",
    "dataset = torch.rand(batch, 2, 4)\n",
    "dataset2 = dataset.view(batch, -1)\n",
    "print(dataset2.shape)"
   ]
  },
  {
   "cell_type": "markdown",
   "metadata": {},
   "source": [
    "Tranpose `tensor.t()` is just a special case of `tensor.permute()`. We can use `permute()` when dealing with complicated high-dimensional tensors."
   ]
  },
  {
   "cell_type": "code",
   "execution_count": 8,
   "metadata": {},
   "outputs": [
    {
     "name": "stdout",
     "output_type": "stream",
     "text": [
      "torch.Size([64, 4, 2])\n"
     ]
    }
   ],
   "source": [
    "dataset = torch.rand(batch, 2, 4)\n",
    "dataset3 = dataset.permute(0, 2, 1)\n",
    "print(dataset3.shape)"
   ]
  },
  {
   "cell_type": "code",
   "execution_count": 24,
   "metadata": {},
   "outputs": [
    {
     "name": "stdout",
     "output_type": "stream",
     "text": [
      "tensor([0, 1, 2, 3, 4, 5, 6, 7, 8, 9]) torch.Size([10])\n",
      "tensor([[0, 1, 2, 3, 4, 5, 6, 7, 8, 9]]) torch.Size([1, 10])\n",
      "tensor([[0],\n",
      "        [1],\n",
      "        [2],\n",
      "        [3],\n",
      "        [4],\n",
      "        [5],\n",
      "        [6],\n",
      "        [7],\n",
      "        [8],\n",
      "        [9]]) torch.Size([10, 1])\n"
     ]
    }
   ],
   "source": [
    "x = torch.arange(10)\n",
    "print(x, x.shape)\n",
    "print(x.unsqueeze(0), x.unsqueeze(0).shape)\n",
    "print(x.unsqueeze(1), x.unsqueeze(1).shape)"
   ]
  },
  {
   "cell_type": "code",
   "execution_count": 25,
   "metadata": {},
   "outputs": [
    {
     "name": "stdout",
     "output_type": "stream",
     "text": [
      "torch.Size([1, 1, 10])\n",
      "torch.Size([1, 10])\n",
      "torch.Size([10])\n"
     ]
    }
   ],
   "source": [
    "z = x.unsqueeze(0).unsqueeze(1)\n",
    "print(z.shape)\n",
    "z2 = z.squeeze(0)\n",
    "print(z2.shape)\n",
    "z3 = z2.squeeze(0)\n",
    "print(x.shape)"
   ]
  }
 ],
 "metadata": {
  "kernelspec": {
   "display_name": "env",
   "language": "python",
   "name": "python3"
  },
  "language_info": {
   "codemirror_mode": {
    "name": "ipython",
    "version": 3
   },
   "file_extension": ".py",
   "mimetype": "text/x-python",
   "name": "python",
   "nbconvert_exporter": "python",
   "pygments_lexer": "ipython3",
   "version": "3.12.3"
  }
 },
 "nbformat": 4,
 "nbformat_minor": 2
}
