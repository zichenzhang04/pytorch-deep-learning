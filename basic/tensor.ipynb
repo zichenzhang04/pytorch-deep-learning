{
 "cells": [
  {
   "cell_type": "code",
   "execution_count": 1,
   "metadata": {},
   "outputs": [],
   "source": [
    "import torch"
   ]
  },
  {
   "cell_type": "markdown",
   "metadata": {},
   "source": [
    "Create a tensor using 2d list:\n",
    "\n",
    "You can also set `device=\"cuda\"` or `device=\"cpu\"` in `torch.tensor`."
   ]
  },
  {
   "cell_type": "code",
   "execution_count": 9,
   "metadata": {},
   "outputs": [
    {
     "name": "stdout",
     "output_type": "stream",
     "text": [
      "tensor([[1, 2, 3],\n",
      "        [4, 5, 6]])\n"
     ]
    }
   ],
   "source": [
    "device = \"cuda\" if torch.cuda.is_available() else \"cpu\"\n",
    "\n",
    "my_tensor_init = torch.tensor([[1, 2, 3], [4, 5, 6]], device=device, requires_grad=False)\n",
    "print(my_tensor_init)"
   ]
  },
  {
   "cell_type": "markdown",
   "metadata": {},
   "source": [
    "`print(my_tensor_float.device)` will show `cuda:0` if you have GPU. Here, `0` represents the **first** GPU."
   ]
  },
  {
   "cell_type": "code",
   "execution_count": 15,
   "metadata": {},
   "outputs": [
    {
     "name": "stdout",
     "output_type": "stream",
     "text": [
      "tensor([[1., 2., 3.],\n",
      "        [4., 5., 6.]], requires_grad=True)\n",
      "torch.float32\n",
      "cpu\n",
      "torch.Size([2, 3])\n",
      "True\n"
     ]
    }
   ],
   "source": [
    "my_tensor_float = torch.tensor([[1, 2, 3], [4, 5, 6]], dtype=torch.float32, requires_grad=True)\n",
    "\n",
    "print(my_tensor_float)\n",
    "print(my_tensor_float.dtype)\n",
    "print(my_tensor_float.device)\n",
    "print(my_tensor_float.shape)\n",
    "print(my_tensor_float.requires_grad)"
   ]
  },
  {
   "cell_type": "markdown",
   "metadata": {},
   "source": [
    "Creating a tensor filled with random values (that were already in the memory) by specifying the shape. It is *not* necessarily filled with $0$."
   ]
  },
  {
   "cell_type": "code",
   "execution_count": 16,
   "metadata": {},
   "outputs": [
    {
     "name": "stdout",
     "output_type": "stream",
     "text": [
      "tensor([[0., 0., 0.],\n",
      "        [0., 0., 0.],\n",
      "        [0., 0., 0.]])\n"
     ]
    }
   ],
   "source": [
    "empty_tensor = torch.empty(size=(3, 3))\n",
    "print(empty_tensor)"
   ]
  },
  {
   "cell_type": "markdown",
   "metadata": {},
   "source": [
    "We can also create a tensor of zeros."
   ]
  },
  {
   "cell_type": "code",
   "execution_count": 17,
   "metadata": {},
   "outputs": [
    {
     "name": "stdout",
     "output_type": "stream",
     "text": [
      "tensor([[0., 0., 0.],\n",
      "        [0., 0., 0.],\n",
      "        [0., 0., 0.]])\n"
     ]
    }
   ],
   "source": [
    "zero_tensor = torch.zeros((3, 3))\n",
    "print(zero_tensor)"
   ]
  },
  {
   "cell_type": "markdown",
   "metadata": {},
   "source": [
    "Other methods:"
   ]
  },
  {
   "cell_type": "code",
   "execution_count": 18,
   "metadata": {},
   "outputs": [
    {
     "name": "stdout",
     "output_type": "stream",
     "text": [
      "tensor([[0.5027, 0.7261, 0.0394],\n",
      "        [0.4156, 0.1593, 0.1515],\n",
      "        [0.5785, 0.0022, 0.4127]])\n"
     ]
    }
   ],
   "source": [
    "# Returns a tensor filled with random numbers from a uniform distribution\n",
    "# on the interval [0, 1)\n",
    "uniform_torch = torch.rand((3, 3))\n",
    "print(uniform_torch)"
   ]
  },
  {
   "cell_type": "code",
   "execution_count": 29,
   "metadata": {},
   "outputs": [
    {
     "name": "stdout",
     "output_type": "stream",
     "text": [
      "tensor([[1., 1., 1.],\n",
      "        [1., 1., 1.],\n",
      "        [1., 1., 1.]])\n"
     ]
    }
   ],
   "source": [
    "ones_torch = torch.ones((3, 3))\n",
    "print(ones_torch)"
   ]
  },
  {
   "cell_type": "code",
   "execution_count": 21,
   "metadata": {},
   "outputs": [
    {
     "name": "stdout",
     "output_type": "stream",
     "text": [
      "tensor([[1., 0., 0., 0., 0.],\n",
      "        [0., 1., 0., 0., 0.],\n",
      "        [0., 0., 1., 0., 0.],\n",
      "        [0., 0., 0., 1., 0.],\n",
      "        [0., 0., 0., 0., 1.]])\n"
     ]
    }
   ],
   "source": [
    "id_torch = torch.eye(5, 5)  # eye for I: identity matrix\n",
    "print(id_torch)"
   ]
  },
  {
   "cell_type": "markdown",
   "metadata": {},
   "source": [
    "Note that `end` is **exclusive** here."
   ]
  },
  {
   "cell_type": "code",
   "execution_count": 24,
   "metadata": {},
   "outputs": [
    {
     "name": "stdout",
     "output_type": "stream",
     "text": [
      "tensor([0, 1, 2, 3, 4])\n",
      "shape (1-D): torch.Size([5])\n"
     ]
    }
   ],
   "source": [
    "arange_torch = torch.arange(start=0, end=5, step=1)\n",
    "print(arange_torch)\n",
    "print(f\"shape (1-D): {arange_torch.shape}\")"
   ]
  },
  {
   "cell_type": "markdown",
   "metadata": {},
   "source": [
    "Note that `end` is **inclusive** here."
   ]
  },
  {
   "cell_type": "code",
   "execution_count": 26,
   "metadata": {},
   "outputs": [
    {
     "name": "stdout",
     "output_type": "stream",
     "text": [
      "tensor([0.1000, 0.2000, 0.3000, 0.4000, 0.5000, 0.6000, 0.7000, 0.8000, 0.9000,\n",
      "        1.0000])\n"
     ]
    }
   ],
   "source": [
    "linspace_torch = torch.linspace(start=0.1, end=1, steps=10)\n",
    "print(linspace_torch)"
   ]
  },
  {
   "cell_type": "code",
   "execution_count": 30,
   "metadata": {},
   "outputs": [
    {
     "name": "stdout",
     "output_type": "stream",
     "text": [
      "tensor([[-0.2278, -2.0400,  0.2165, -0.2985, -0.5170]])\n",
      "tensor([[0.2622, 0.1769, 0.3056, 0.5632, 0.8008]])\n"
     ]
    }
   ],
   "source": [
    "# Fills self tensor with elements samples from\n",
    "# the normal distribution parameterized by mean and std.\n",
    "norm_torch = torch.empty(size=(1, 5)).normal_(mean=0, std=1)\n",
    "print(norm_torch)\n",
    "\n",
    "# unform_(form_:, to:)\n",
    "# Fills self tensor with numbers sampled from the continuous uniform distribution\n",
    "uniform_torch_2 = torch.empty(size=(1, 5)).uniform_(0, 1)\n",
    "print(uniform_torch_2)"
   ]
  },
  {
   "cell_type": "code",
   "execution_count": 31,
   "metadata": {},
   "outputs": [
    {
     "name": "stdout",
     "output_type": "stream",
     "text": [
      "tensor([[1, 0, 0],\n",
      "        [0, 2, 0],\n",
      "        [0, 0, 3]])\n"
     ]
    }
   ],
   "source": [
    "x = torch.tensor([1, 2, 3])\n",
    "diag_tensor = torch.diag(x)\n",
    "print(diag_tensor)"
   ]
  },
  {
   "cell_type": "markdown",
   "metadata": {},
   "source": [
    "How to initialize and convert tensor to different types: **int, float, double**, etc"
   ]
  },
  {
   "cell_type": "code",
   "execution_count": 37,
   "metadata": {},
   "outputs": [
    {
     "name": "stdout",
     "output_type": "stream",
     "text": [
      "tensor([0, 1, 2, 3])\n",
      "tensor([False,  True,  True,  True])\n",
      "tensor([0, 1, 2, 3], dtype=torch.int16)\n",
      "tensor([0, 1, 2, 3])\n",
      "tensor([0., 1., 2., 3.], dtype=torch.float16)\n",
      "tensor([0., 1., 2., 3.])\n",
      "tensor([0., 1., 2., 3.], dtype=torch.float64)\n"
     ]
    }
   ],
   "source": [
    "int64_tensor = torch.arange(4)\n",
    "print(int64_tensor)\n",
    "\n",
    "print(int64_tensor.bool())  # convert 0 to F, others to T\n",
    "\n",
    "print(int64_tensor.short())  # convert to int_16\n",
    "\n",
    "# convert to int_64 (default, frequently used)\n",
    "print(int64_tensor.long())\n",
    "\n",
    "# convert to float_16, this is often used with GPUs\n",
    "print(int64_tensor.half())\n",
    "\n",
    "# convert to float_32 (default, frequently used)\n",
    "print(int64_tensor.float())\n",
    "\n",
    "print(int64_tensor.double())  # convert to float_64"
   ]
  },
  {
   "cell_type": "markdown",
   "metadata": {},
   "source": [
    "Array to Tensor conversion and vice-versa:"
   ]
  },
  {
   "cell_type": "code",
   "execution_count": 39,
   "metadata": {},
   "outputs": [
    {
     "name": "stdout",
     "output_type": "stream",
     "text": [
      "[[0. 0. 0. 0. 0.]\n",
      " [0. 0. 0. 0. 0.]\n",
      " [0. 0. 0. 0. 0.]\n",
      " [0. 0. 0. 0. 0.]\n",
      " [0. 0. 0. 0. 0.]]\n",
      "tensor([[0., 0., 0., 0., 0.],\n",
      "        [0., 0., 0., 0., 0.],\n",
      "        [0., 0., 0., 0., 0.],\n",
      "        [0., 0., 0., 0., 0.],\n",
      "        [0., 0., 0., 0., 0.]], dtype=torch.float64)\n",
      "[[0. 0. 0. 0. 0.]\n",
      " [0. 0. 0. 0. 0.]\n",
      " [0. 0. 0. 0. 0.]\n",
      " [0. 0. 0. 0. 0.]\n",
      " [0. 0. 0. 0. 0.]]\n"
     ]
    }
   ],
   "source": [
    "import numpy as np\n",
    "\n",
    "np_array = np.zeros((5, 5))\n",
    "print(np_array)\n",
    "\n",
    "tensor = torch.from_numpy(np_array)\n",
    "print(tensor)\n",
    "\n",
    "np_array_back = tensor.numpy()\n",
    "print(np_array_back)"
   ]
  }
 ],
 "metadata": {
  "kernelspec": {
   "display_name": "env",
   "language": "python",
   "name": "python3"
  },
  "language_info": {
   "codemirror_mode": {
    "name": "ipython",
    "version": 3
   },
   "file_extension": ".py",
   "mimetype": "text/x-python",
   "name": "python",
   "nbconvert_exporter": "python",
   "pygments_lexer": "ipython3",
   "version": "3.12.3"
  }
 },
 "nbformat": 4,
 "nbformat_minor": 2
}
