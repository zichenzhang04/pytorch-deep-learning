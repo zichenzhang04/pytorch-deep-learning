{
 "cells": [
  {
   "cell_type": "code",
   "execution_count": 1,
   "metadata": {},
   "outputs": [],
   "source": [
    "import torch"
   ]
  },
  {
   "cell_type": "code",
   "execution_count": 2,
   "metadata": {},
   "outputs": [
    {
     "name": "stdout",
     "output_type": "stream",
     "text": [
      "torch.Size([25])\n",
      "torch.Size([25])\n"
     ]
    }
   ],
   "source": [
    "batch_size = 10\n",
    "features = 25\n",
    "x = torch.rand((batch_size, features))\n",
    "\n",
    "print(x[0].shape)\n",
    "print(x[0,:].shape)  # equivalent"
   ]
  },
  {
   "cell_type": "code",
   "execution_count": 5,
   "metadata": {},
   "outputs": [
    {
     "name": "stdout",
     "output_type": "stream",
     "text": [
      "torch.Size([10])\n",
      "torch.Size([5])\n"
     ]
    }
   ],
   "source": [
    "print(x[:, 0].shape)\n",
    "print(x[2, 0:5].shape)\n",
    "\n",
    "x[0, 0] = 100  # set a value"
   ]
  },
  {
   "cell_type": "code",
   "execution_count": 8,
   "metadata": {},
   "outputs": [
    {
     "name": "stdout",
     "output_type": "stream",
     "text": [
      "tensor([2, 5, 8])\n"
     ]
    }
   ],
   "source": [
    "x = torch.arange(10)\n",
    "indices = [2, 5, 8]\n",
    "print(x[indices])"
   ]
  },
  {
   "cell_type": "code",
   "execution_count": 9,
   "metadata": {},
   "outputs": [
    {
     "name": "stdout",
     "output_type": "stream",
     "text": [
      "tensor([[0.8460, 0.4197, 0.3795, 0.5340, 0.8654],\n",
      "        [0.1979, 0.8595, 0.1366, 0.5371, 0.9240],\n",
      "        [0.4928, 0.2746, 0.8365, 0.3670, 0.7453]])\n",
      "tensor([0.9240, 0.8460])\n"
     ]
    }
   ],
   "source": [
    "x = torch.rand((3, 5))\n",
    "print(x)\n",
    "rows = torch.tensor([1, 0])\n",
    "cols = torch.tensor([4, 0])\n",
    "# x[1,4], x[0,0]\n",
    "print(x[rows, cols])"
   ]
  },
  {
   "cell_type": "code",
   "execution_count": 14,
   "metadata": {},
   "outputs": [
    {
     "name": "stdout",
     "output_type": "stream",
     "text": [
      "tensor([ 1, 10])\n",
      "tensor([], dtype=torch.int64)\n",
      "tensor([ 8, 10])\n"
     ]
    }
   ],
   "source": [
    "x = torch.tensor([1, 3, 5, 7, 8, 10])\n",
    "print(x[(x < 2) | (x > 8)])\n",
    "print(x[(x < 2) & (x > 8)])\n",
    "print(x[x.remainder(2) == 0])  # pick up all the even elements"
   ]
  },
  {
   "cell_type": "markdown",
   "metadata": {},
   "source": [
    "`where(condition, input, other, *, out=None) -> Tensor`\n",
    "`condition`: When `True` (nonzero), yield `input`, otherwise yield `other`"
   ]
  },
  {
   "cell_type": "code",
   "execution_count": 15,
   "metadata": {},
   "outputs": [
    {
     "name": "stdout",
     "output_type": "stream",
     "text": [
      "tensor([ 0.0000,  2.0000,  4.0000,  6.0000,  8.0000, 10.0000,  3.0000,  3.5000,\n",
      "         4.0000,  4.5000])\n"
     ]
    }
   ],
   "source": [
    "x = torch.arange(10)\n",
    "print(torch.where(x > 5, x / 2, x * 2))"
   ]
  },
  {
   "cell_type": "code",
   "execution_count": 16,
   "metadata": {},
   "outputs": [
    {
     "name": "stdout",
     "output_type": "stream",
     "text": [
      "tensor([0, 1])\n"
     ]
    }
   ],
   "source": [
    "x = torch.tensor([0, 0, 1, 1])\n",
    "print(x.unique())"
   ]
  },
  {
   "cell_type": "code",
   "execution_count": 19,
   "metadata": {},
   "outputs": [
    {
     "name": "stdout",
     "output_type": "stream",
     "text": [
      "3\n",
      "125\n"
     ]
    }
   ],
   "source": [
    "x = torch.rand((5, 5, 5))\n",
    "print(x.ndimension())\n",
    "print(x.numel())  # number of elements in the tensor"
   ]
  }
 ],
 "metadata": {
  "kernelspec": {
   "display_name": "env",
   "language": "python",
   "name": "python3"
  },
  "language_info": {
   "codemirror_mode": {
    "name": "ipython",
    "version": 3
   },
   "file_extension": ".py",
   "mimetype": "text/x-python",
   "name": "python",
   "nbconvert_exporter": "python",
   "pygments_lexer": "ipython3",
   "version": "3.12.3"
  }
 },
 "nbformat": 4,
 "nbformat_minor": 2
}
