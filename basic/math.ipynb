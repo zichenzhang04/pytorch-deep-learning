{
 "cells": [
  {
   "cell_type": "markdown",
   "metadata": {},
   "source": [
    "Addition:"
   ]
  },
  {
   "cell_type": "code",
   "execution_count": 1,
   "metadata": {},
   "outputs": [],
   "source": [
    "import torch\n",
    "\n",
    "x = torch.tensor([1, 2, 3])\n",
    "y = torch.tensor([9, 8, 7])"
   ]
  },
  {
   "cell_type": "code",
   "execution_count": 2,
   "metadata": {},
   "outputs": [
    {
     "name": "stdout",
     "output_type": "stream",
     "text": [
      "tensor([10., 10., 10.])\n"
     ]
    }
   ],
   "source": [
    "z1 = torch.empty(3)\n",
    "torch.add(x, y, out=z1)\n",
    "print(z1)"
   ]
  },
  {
   "cell_type": "markdown",
   "metadata": {},
   "source": [
    "An alternative way is:"
   ]
  },
  {
   "cell_type": "code",
   "execution_count": 3,
   "metadata": {},
   "outputs": [
    {
     "name": "stdout",
     "output_type": "stream",
     "text": [
      "tensor([10, 10, 10])\n"
     ]
    }
   ],
   "source": [
    "z2 = torch.add(x, y)\n",
    "print(z2)"
   ]
  },
  {
   "cell_type": "markdown",
   "metadata": {},
   "source": [
    "Or we can use:"
   ]
  },
  {
   "cell_type": "code",
   "execution_count": 4,
   "metadata": {},
   "outputs": [
    {
     "name": "stdout",
     "output_type": "stream",
     "text": [
      "tensor([10, 10, 10])\n"
     ]
    }
   ],
   "source": [
    "print(x + y)"
   ]
  },
  {
   "cell_type": "markdown",
   "metadata": {},
   "source": [
    "Subtraction:"
   ]
  },
  {
   "cell_type": "code",
   "execution_count": 5,
   "metadata": {},
   "outputs": [
    {
     "name": "stdout",
     "output_type": "stream",
     "text": [
      "tensor([-8, -6, -4])\n"
     ]
    }
   ],
   "source": [
    "print(x - y)"
   ]
  },
  {
   "cell_type": "markdown",
   "metadata": {},
   "source": [
    "Division:"
   ]
  },
  {
   "cell_type": "code",
   "execution_count": 7,
   "metadata": {},
   "outputs": [
    {
     "name": "stdout",
     "output_type": "stream",
     "text": [
      "tensor([0.1111, 0.2500, 0.4286])\n",
      "tensor([0.5000, 1.0000, 1.5000])\n"
     ]
    }
   ],
   "source": [
    "# element-wise division if x and y are of the same shape\n",
    "z = torch.true_divide(x, y)\n",
    "print(z)\n",
    "\n",
    "# x = torch.tensor([1, 2, 3])\n",
    "# z2 = torch.tensor([1/2, 2/2, 3/2])\n",
    "z2 = torch.true_divide(x, 2)\n",
    "print(z2)"
   ]
  },
  {
   "cell_type": "markdown",
   "metadata": {},
   "source": [
    "Inplace operations: more computationally efficient"
   ]
  },
  {
   "cell_type": "code",
   "execution_count": 9,
   "metadata": {},
   "outputs": [
    {
     "name": "stdout",
     "output_type": "stream",
     "text": [
      "tensor([0., 0., 0.])\n",
      "tensor([1., 2., 3.])\n"
     ]
    }
   ],
   "source": [
    "t = torch.zeros(3)\n",
    "print(t)\n",
    "\n",
    "# function name followed by underline indicates that it's inplace\n",
    "t.add_(x)  # or alternatively: t += x\n",
    "print(t)"
   ]
  },
  {
   "cell_type": "markdown",
   "metadata": {},
   "source": [
    "Exponentiation:"
   ]
  },
  {
   "cell_type": "code",
   "execution_count": 11,
   "metadata": {},
   "outputs": [
    {
     "name": "stdout",
     "output_type": "stream",
     "text": [
      "tensor([1, 4, 9])\n",
      "tensor([1, 4, 9])\n"
     ]
    }
   ],
   "source": [
    "# element-wise power of 2\n",
    "z = x.pow(2)\n",
    "print(z)\n",
    "\n",
    "z2 = x ** 2  # equivalent\n",
    "print(z2)"
   ]
  },
  {
   "cell_type": "markdown",
   "metadata": {},
   "source": [
    "Element-wise Comparison:"
   ]
  },
  {
   "cell_type": "code",
   "execution_count": 14,
   "metadata": {},
   "outputs": [
    {
     "name": "stdout",
     "output_type": "stream",
     "text": [
      "tensor([False,  True,  True])\n",
      "tensor([ True, False, False])\n"
     ]
    }
   ],
   "source": [
    "z = x > 1  # x = [1, 2, 3]\n",
    "print(z)\n",
    "z = x <= 1\n",
    "print(z)"
   ]
  },
  {
   "cell_type": "markdown",
   "metadata": {},
   "source": [
    "Matrix Multiplication:"
   ]
  },
  {
   "cell_type": "code",
   "execution_count": 15,
   "metadata": {},
   "outputs": [
    {
     "name": "stdout",
     "output_type": "stream",
     "text": [
      "tensor([[0.8700, 1.6029, 1.0622],\n",
      "        [1.2484, 1.9030, 1.0377]])\n",
      "tensor([[0.8700, 1.6029, 1.0622],\n",
      "        [1.2484, 1.9030, 1.0377]])\n",
      "tensor([[True, True, True],\n",
      "        [True, True, True]])\n"
     ]
    }
   ],
   "source": [
    "x1 = torch.rand((2, 5))\n",
    "x2 = torch.rand((5, 3))\n",
    "x3 = torch.mm(x1, x2)\n",
    "print(x3)\n",
    "x4 = x1.mm(x2)  # equivalent\n",
    "print(x4)\n",
    "print(x3 == x4)"
   ]
  },
  {
   "cell_type": "markdown",
   "metadata": {},
   "source": [
    "Matrix Exponentiation:"
   ]
  },
  {
   "cell_type": "code",
   "execution_count": 16,
   "metadata": {},
   "outputs": [
    {
     "name": "stdout",
     "output_type": "stream",
     "text": [
      "tensor([[True, True, True, True, True],\n",
      "        [True, True, True, True, True],\n",
      "        [True, True, True, True, True],\n",
      "        [True, True, True, True, True],\n",
      "        [True, True, True, True, True]])\n"
     ]
    }
   ],
   "source": [
    "matrix_exp = torch.rand((5, 5))\n",
    "z = matrix_exp.matrix_power(3)\n",
    "\n",
    "org = matrix_exp\n",
    "z2 = matrix_exp.mm(matrix_exp).mm(org)  # equivalent\n",
    "print(z == z2)"
   ]
  },
  {
   "cell_type": "markdown",
   "metadata": {},
   "source": [
    "Element-wise multiplication:"
   ]
  },
  {
   "cell_type": "code",
   "execution_count": 17,
   "metadata": {},
   "outputs": [
    {
     "name": "stdout",
     "output_type": "stream",
     "text": [
      "x tensor([1, 2, 3])\n",
      "y tensor([9, 8, 7])\n",
      "z tensor([ 9, 16, 21])\n"
     ]
    }
   ],
   "source": [
    "print(\"x\", x)\n",
    "print(\"y\", y)\n",
    "\n",
    "print(\"z\", x * y)"
   ]
  },
  {
   "cell_type": "markdown",
   "metadata": {},
   "source": [
    "Dot product:"
   ]
  },
  {
   "cell_type": "code",
   "execution_count": 18,
   "metadata": {},
   "outputs": [
    {
     "name": "stdout",
     "output_type": "stream",
     "text": [
      "tensor(46)\n"
     ]
    }
   ],
   "source": [
    "print(torch.dot(x, y))"
   ]
  },
  {
   "cell_type": "markdown",
   "metadata": {},
   "source": [
    "Batch Matrix Multiplication:\n",
    "\n",
    "Performs a batch matrix-matrix product of matrices stored in `input` and `mat2`.\n",
    "\n",
    "`input` and `mat2` must be 3-D tensors each containing the same number of matrices."
   ]
  },
  {
   "cell_type": "code",
   "execution_count": 20,
   "metadata": {},
   "outputs": [
    {
     "name": "stdout",
     "output_type": "stream",
     "text": [
      "torch.Size([32, 10, 30])\n"
     ]
    }
   ],
   "source": [
    "batch = 32\n",
    "n = 10\n",
    "m = 20\n",
    "p = 30\n",
    "tensor1 = torch.rand((batch, n, m))\n",
    "tensor2 = torch.rand((batch, m, p))\n",
    "\n",
    "out_bmm = torch.bmm(tensor1, tensor2)  # (batch, n, p)\n",
    "print(out_bmm.shape)"
   ]
  },
  {
   "cell_type": "markdown",
   "metadata": {},
   "source": [
    "Examples of Broadcasting:"
   ]
  },
  {
   "cell_type": "markdown",
   "metadata": {},
   "source": [
    "Every row of `x1` is subtracted by the only row in `x2`."
   ]
  },
  {
   "cell_type": "code",
   "execution_count": 23,
   "metadata": {},
   "outputs": [
    {
     "name": "stdout",
     "output_type": "stream",
     "text": [
      "x1 tensor([[0.2050, 0.3851],\n",
      "        [0.8972, 0.4336]])\n",
      "x2 tensor([[0.7753, 0.1034]])\n",
      "z tensor([[-0.5703,  0.2817],\n",
      "        [ 0.1218,  0.3302]])\n",
      "z2 tensor([[0.2927, 0.9061],\n",
      "        [0.9193, 0.9172]])\n"
     ]
    }
   ],
   "source": [
    "x1 = torch.rand((2, 2))\n",
    "print(\"x1\", x1)\n",
    "x2 = torch.rand((1, 2))\n",
    "print(\"x2\", x2)\n",
    "print(\"z\", x1 - x2)\n",
    "print(\"z2\", x1 ** x2)"
   ]
  },
  {
   "cell_type": "markdown",
   "metadata": {},
   "source": [
    "Other useful tensor operations:"
   ]
  },
  {
   "cell_type": "code",
   "execution_count": 29,
   "metadata": {},
   "outputs": [
    {
     "name": "stdout",
     "output_type": "stream",
     "text": [
      "tensor([[[0.1585, 0.7323],\n",
      "         [0.3606, 0.5413]],\n",
      "\n",
      "        [[0.1707, 0.6138],\n",
      "         [0.6091, 0.0805]]])\n",
      "tensor([[0.3292, 1.3461],\n",
      "        [0.9697, 0.6218]])\n",
      "tensor([[0.5191, 1.2736],\n",
      "        [0.7799, 0.6943]])\n",
      "tensor([[0.8908, 0.9019],\n",
      "        [0.7845, 0.6896]])\n"
     ]
    }
   ],
   "source": [
    "tensor = torch.rand((2, 2, 2))\n",
    "print(tensor)\n",
    "# Returns the sum of each row of the input tensor in the given\n",
    "# dimension dim. If dim is a list of dimensions, reduce over all of them.\n",
    "print(torch.sum(tensor, dim=0))\n",
    "print(torch.sum(tensor, dim=1))\n",
    "print(torch.sum(tensor, dim=2))"
   ]
  },
  {
   "cell_type": "markdown",
   "metadata": {},
   "source": [
    "`max`, `argmax`, `min`:"
   ]
  },
  {
   "cell_type": "code",
   "execution_count": 42,
   "metadata": {},
   "outputs": [
    {
     "name": "stdout",
     "output_type": "stream",
     "text": [
      "tensor([[[0.1578, 0.6950],\n",
      "         [0.8050, 0.1457]],\n",
      "\n",
      "        [[0.4656, 0.2618],\n",
      "         [0.9898, 0.9719]]])\n",
      "max values: tensor([[0.4656, 0.6950],\n",
      "        [0.9898, 0.9719]])\n",
      "max indices: tensor([[1, 0],\n",
      "        [1, 1]])\n",
      "tensor([[True, True],\n",
      "        [True, True]])\n",
      "====================================\n",
      "min values: tensor([[0.1578, 0.2618],\n",
      "        [0.8050, 0.1457]])\n",
      "min indices: tensor([[0, 1],\n",
      "        [0, 0]])\n",
      "tensor([[True, True],\n",
      "        [True, True]])\n"
     ]
    }
   ],
   "source": [
    "tensor = torch.rand((2, 2, 2))\n",
    "print(tensor)\n",
    "\n",
    "values, indices = torch.max(tensor, dim=0)  # equivalently: tensor.max(dim=0)\n",
    "print(\"max values:\", values)\n",
    "print(\"max indices:\", indices)\n",
    "print(indices == torch.argmax(tensor, dim=0))\n",
    "print(\"====================================\")\n",
    "values, indices = torch.min(tensor, dim=0)\n",
    "print(\"min values:\", values)\n",
    "print(\"min indices:\", indices)\n",
    "print(indices == torch.argmin(tensor, dim=0))"
   ]
  },
  {
   "cell_type": "markdown",
   "metadata": {},
   "source": [
    "Element-wise absolute value:"
   ]
  },
  {
   "cell_type": "code",
   "execution_count": 36,
   "metadata": {},
   "outputs": [
    {
     "name": "stdout",
     "output_type": "stream",
     "text": [
      "tensor([1, 2, 3])\n"
     ]
    }
   ],
   "source": [
    "tensor = torch.tensor([-1, -2, -3])\n",
    "print(torch.abs(tensor))"
   ]
  },
  {
   "cell_type": "markdown",
   "metadata": {},
   "source": [
    "Note that `torch.mean()` requires us to use `float` numbers:"
   ]
  },
  {
   "cell_type": "code",
   "execution_count": 44,
   "metadata": {},
   "outputs": [
    {
     "name": "stdout",
     "output_type": "stream",
     "text": [
      "tensor([[0.8388, 0.1203],\n",
      "        [0.5127, 0.0272]])\n",
      "tensor([0.6758, 0.0737])\n"
     ]
    }
   ],
   "source": [
    "tensor = torch.rand((2, 2)).float()\n",
    "print(tensor)\n",
    "\n",
    "mean_tensor = torch.mean(tensor, dim=0)\n",
    "print(mean_tensor)"
   ]
  },
  {
   "cell_type": "code",
   "execution_count": 45,
   "metadata": {},
   "outputs": [
    {
     "name": "stdout",
     "output_type": "stream",
     "text": [
      "tensor([False, False, False])\n"
     ]
    }
   ],
   "source": [
    "print(torch.eq(x, y))"
   ]
  },
  {
   "cell_type": "code",
   "execution_count": 49,
   "metadata": {},
   "outputs": [
    {
     "name": "stdout",
     "output_type": "stream",
     "text": [
      "tensor([[0.5421, 0.8342, 0.5736],\n",
      "        [0.1381, 0.4777, 0.6277],\n",
      "        [0.9441, 0.9562, 0.5587]])\n",
      "tensor([[0.1381, 0.4777, 0.5587],\n",
      "        [0.5421, 0.8342, 0.5736],\n",
      "        [0.9441, 0.9562, 0.6277]])\n",
      "tensor([[1, 1, 2],\n",
      "        [0, 0, 0],\n",
      "        [2, 2, 1]])\n"
     ]
    }
   ],
   "source": [
    "tensor = torch.rand((3, 3))\n",
    "print(tensor)\n",
    "tensor, indices = torch.sort(tensor, dim=0, descending=False)\n",
    "print(tensor)\n",
    "print(indices)"
   ]
  },
  {
   "cell_type": "markdown",
   "metadata": {},
   "source": [
    "Note that `torch.clamp(tensor, min=0)` is exactly the **RELU** function."
   ]
  },
  {
   "cell_type": "code",
   "execution_count": 51,
   "metadata": {},
   "outputs": [
    {
     "name": "stdout",
     "output_type": "stream",
     "text": [
      "tensor([ 1,  0,  3, 10])\n"
     ]
    }
   ],
   "source": [
    "tensor = torch.tensor([1, -1, 3, 11])\n",
    "z = torch.clamp(tensor, min=0, max=10)\n",
    "print(z)"
   ]
  },
  {
   "cell_type": "code",
   "execution_count": 52,
   "metadata": {},
   "outputs": [
    {
     "name": "stdout",
     "output_type": "stream",
     "text": [
      "tensor(True)\n",
      "tensor(False)\n"
     ]
    }
   ],
   "source": [
    "bool_tensor = torch.tensor([1, 0, 0], dtype=torch.bool)\n",
    "print(torch.any(bool_tensor))\n",
    "print(torch.all(bool_tensor))"
   ]
  }
 ],
 "metadata": {
  "kernelspec": {
   "display_name": "env",
   "language": "python",
   "name": "python3"
  },
  "language_info": {
   "codemirror_mode": {
    "name": "ipython",
    "version": 3
   },
   "file_extension": ".py",
   "mimetype": "text/x-python",
   "name": "python",
   "nbconvert_exporter": "python",
   "pygments_lexer": "ipython3",
   "version": "3.12.3"
  }
 },
 "nbformat": 4,
 "nbformat_minor": 2
}
